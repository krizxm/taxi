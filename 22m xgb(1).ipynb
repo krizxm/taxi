{
 "cells": [
  {
   "cell_type": "code",
   "execution_count": 1,
   "metadata": {
    "collapsed": true
   },
   "outputs": [],
   "source": [
    "import numpy as np \n",
    "import pandas as pd\n",
    "import scipy as scipy\n",
    "import datetime as dt\n",
    "from sklearn.model_selection import train_test_split\n",
    "import lightgbm as lgbm\n",
    "import os\n",
    "import gc"
   ]
  },
  {
   "cell_type": "code",
   "execution_count": 2,
   "metadata": {
    "collapsed": true
   },
   "outputs": [],
   "source": [
    "# Reading Data\n",
    "train_df =  pd.read_csv('train.csv', nrows = 22000000)"
   ]
  },
  {
   "cell_type": "code",
   "execution_count": 3,
   "metadata": {
    "collapsed": true
   },
   "outputs": [],
   "source": [
    "#Drop rows with null values\n",
    "train_df = train_df.dropna(how = 'any', axis = 'rows')"
   ]
  },
  {
   "cell_type": "code",
   "execution_count": 4,
   "metadata": {},
   "outputs": [
    {
     "data": {
      "text/plain": [
       "(10, 8)"
      ]
     },
     "execution_count": 4,
     "metadata": {},
     "output_type": "execute_result"
    }
   ],
   "source": [
    "train_df.shape"
   ]
  },
  {
   "cell_type": "code",
   "execution_count": 5,
   "metadata": {
    "collapsed": true
   },
   "outputs": [],
   "source": [
    "def clean_df(df):\n",
    "    return df[(df.fare_amount > 0)  & (df.fare_amount <= 500) &\n",
    "          # (df.passenger_count >= 0) & (df.passenger_count <= 8)  &\n",
    "           ((df.pickup_longitude != 0) & (df.pickup_latitude != 0) & (df.dropoff_longitude != 0) & (df.dropoff_latitude != 0) )]\n"
   ]
  },
  {
   "cell_type": "code",
   "execution_count": 6,
   "metadata": {
    "collapsed": true
   },
   "outputs": [],
   "source": [
    "train_df = clean_df(train_df)"
   ]
  },
  {
   "cell_type": "code",
   "execution_count": 7,
   "metadata": {},
   "outputs": [
    {
     "data": {
      "text/plain": [
       "(10, 8)"
      ]
     },
     "execution_count": 7,
     "metadata": {},
     "output_type": "execute_result"
    }
   ],
   "source": [
    "train_df.shape"
   ]
  },
  {
   "cell_type": "code",
   "execution_count": 8,
   "metadata": {
    "collapsed": true
   },
   "outputs": [],
   "source": [
    "# To Compute Haversine distance\n",
    "def sphere_dist(pickup_lat, pickup_lon, dropoff_lat, dropoff_lon):\n",
    "    \"\"\"\n",
    "    Return distance along great radius between pickup and dropoff coordinates.\n",
    "    \"\"\"\n",
    "    #Define earth radius (km)\n",
    "    R_earth = 6371\n",
    "    #Convert degrees to radians\n",
    "    pickup_lat, pickup_lon, dropoff_lat, dropoff_lon = map(np.radians,\n",
    "                                                             [pickup_lat, pickup_lon, \n",
    "                                                              dropoff_lat, dropoff_lon])\n",
    "    #Compute distances along lat, lon dimensions\n",
    "    dlat = dropoff_lat - pickup_lat\n",
    "    dlon = dropoff_lon - pickup_lon\n",
    "    \n",
    "    #Compute haversine distance\n",
    "    a = np.sin(dlat/2.0)**2 + np.cos(pickup_lat) * np.cos(dropoff_lat) * np.sin(dlon/2.0)**2\n",
    "    return 2 * R_earth * np.arcsin(np.sqrt(a))"
   ]
  },
  {
   "cell_type": "code",
   "execution_count": 9,
   "metadata": {
    "collapsed": true
   },
   "outputs": [],
   "source": [
    "def sphere_dist_bear(pickup_lat, pickup_lon, dropoff_lat, dropoff_lon):\n",
    "    \"\"\"\n",
    "    Return distance along great radius between pickup and dropoff coordinates.\n",
    "    \"\"\"\n",
    "    #Define earth radius (km)\n",
    "    R_earth = 6371\n",
    "    #Convert degrees to radians\n",
    "    pickup_lat, pickup_lon, dropoff_lat, dropoff_lon = map(np.radians,\n",
    "                                                             [pickup_lat, pickup_lon, \n",
    "                                                              dropoff_lat, dropoff_lon])\n",
    "    #Compute distances along lat, lon dimensions\n",
    "    dlat = dropoff_lat - pickup_lat\n",
    "    dlon = pickup_lon - dropoff_lon\n",
    "    \n",
    "    #Compute bearing distance\n",
    "    a = np.arctan2(np.sin(dlon * np.cos(dropoff_lat)),np.cos(pickup_lat) * np.sin(dropoff_lat) - np.sin(pickup_lat) * np.cos(dropoff_lat) * np.cos(dlon))\n",
    "    return a"
   ]
  },
  {
   "cell_type": "code",
   "execution_count": 10,
   "metadata": {
    "collapsed": true
   },
   "outputs": [],
   "source": [
    "def radian_conv(degree):\n",
    "    \"\"\"\n",
    "    Return radian.\n",
    "    \"\"\"\n",
    "    return  np.radians(degree)  "
   ]
  },
  {
   "cell_type": "code",
   "execution_count": 11,
   "metadata": {
    "collapsed": true
   },
   "outputs": [],
   "source": [
    "def add_datetime_info(dataset):\n",
    "    #Convert to datetime format\n",
    "    dataset['pickup_datetime'] = pd.to_datetime(dataset['pickup_datetime'],format=\"%Y-%m-%d %H:%M:%S UTC\")\n",
    "    \n",
    "    dataset['hour'] = dataset.pickup_datetime.dt.hour\n",
    "    dataset['day'] = dataset.pickup_datetime.dt.day\n",
    "    dataset['month'] = dataset.pickup_datetime.dt.month\n",
    "    dataset['weekday'] = dataset.pickup_datetime.dt.weekday\n",
    "    dataset['year'] = dataset.pickup_datetime.dt.year\n",
    "    \n",
    "    return dataset"
   ]
  },
  {
   "cell_type": "code",
   "execution_count": 12,
   "metadata": {
    "collapsed": true
   },
   "outputs": [],
   "source": [
    "def add_airport_dist(dataset):\n",
    "    \"\"\"\n",
    "    Return minumum distance from pickup or dropoff coordinates to each airport.\n",
    "    JFK: John F. Kennedy International Airport\n",
    "    EWR: Newark Liberty International Airport\n",
    "    LGA: LaGuardia Airport\n",
    "    SOL: Statue of Liberty \n",
    "    NYC: Newyork Central\n",
    "    \"\"\"\n",
    "    jfk_coord = (40.639722, -73.778889)\n",
    "    ewr_coord = (40.6925, -74.168611)\n",
    "    lga_coord = (40.77725, -73.872611)\n",
    "    sol_coord = (40.6892,-74.0445) # Statue of Liberty\n",
    "    nyc_coord = (40.7141667,-74.0063889) \n",
    "    \n",
    "    \n",
    "    pickup_lat = dataset['pickup_latitude']\n",
    "    dropoff_lat = dataset['dropoff_latitude']\n",
    "    pickup_lon = dataset['pickup_longitude']\n",
    "    dropoff_lon = dataset['dropoff_longitude']\n",
    "    \n",
    "    pickup_jfk = sphere_dist(pickup_lat, pickup_lon, jfk_coord[0], jfk_coord[1]) \n",
    "    dropoff_jfk = sphere_dist(jfk_coord[0], jfk_coord[1], dropoff_lat, dropoff_lon) \n",
    "    pickup_ewr = sphere_dist(pickup_lat, pickup_lon, ewr_coord[0], ewr_coord[1])\n",
    "    dropoff_ewr = sphere_dist(ewr_coord[0], ewr_coord[1], dropoff_lat, dropoff_lon) \n",
    "    pickup_lga = sphere_dist(pickup_lat, pickup_lon, lga_coord[0], lga_coord[1]) \n",
    "    dropoff_lga = sphere_dist(lga_coord[0], lga_coord[1], dropoff_lat, dropoff_lon)\n",
    "    pickup_sol = sphere_dist(pickup_lat, pickup_lon, sol_coord[0], sol_coord[1]) \n",
    "    dropoff_sol = sphere_dist(sol_coord[0], sol_coord[1], dropoff_lat, dropoff_lon)\n",
    "    pickup_nyc = sphere_dist(pickup_lat, pickup_lon, nyc_coord[0], nyc_coord[1]) \n",
    "    dropoff_nyc = sphere_dist(nyc_coord[0], nyc_coord[1], dropoff_lat, dropoff_lon)\n",
    "    \n",
    "    \n",
    "    \n",
    "    dataset['jfk_dist'] = pickup_jfk + dropoff_jfk\n",
    "    dataset['ewr_dist'] = pickup_ewr + dropoff_ewr\n",
    "    dataset['lga_dist'] = pickup_lga + dropoff_lga\n",
    "    dataset['sol_dist'] = pickup_sol + dropoff_sol\n",
    "    dataset['nyc_dist'] = pickup_nyc + dropoff_nyc\n",
    "    \n",
    "    return dataset"
   ]
  },
  {
   "cell_type": "code",
   "execution_count": 13,
   "metadata": {
    "collapsed": true
   },
   "outputs": [],
   "source": [
    "train_df = add_datetime_info(train_df)\n",
    "train_df = add_airport_dist(train_df)\n",
    "train_df['distance'] = sphere_dist(train_df['pickup_latitude'], train_df['pickup_longitude'], \n",
    "                                   train_df['dropoff_latitude'] , train_df['dropoff_longitude']) \n",
    "\n",
    "train_df['bearing'] = sphere_dist_bear(train_df['pickup_latitude'], train_df['pickup_longitude'], \n",
    "                                   train_df['dropoff_latitude'] , train_df['dropoff_longitude'])                                    \n",
    "train_df['pickup_latitude'] = radian_conv(train_df['pickup_latitude'])\n",
    "train_df['pickup_longitude'] = radian_conv(train_df['pickup_longitude'])\n",
    "train_df['dropoff_latitude'] = radian_conv(train_df['dropoff_latitude'])\n",
    "train_df['dropoff_longitude'] = radian_conv(train_df['dropoff_longitude'])"
   ]
  },
  {
   "cell_type": "code",
   "execution_count": 14,
   "metadata": {},
   "outputs": [
    {
     "data": {
      "text/html": [
       "<div>\n",
       "<table border=\"1\" class=\"dataframe\">\n",
       "  <thead>\n",
       "    <tr style=\"text-align: right;\">\n",
       "      <th></th>\n",
       "      <th>key</th>\n",
       "      <th>fare_amount</th>\n",
       "      <th>pickup_datetime</th>\n",
       "      <th>pickup_longitude</th>\n",
       "      <th>pickup_latitude</th>\n",
       "      <th>dropoff_longitude</th>\n",
       "      <th>dropoff_latitude</th>\n",
       "      <th>passenger_count</th>\n",
       "      <th>hour</th>\n",
       "      <th>day</th>\n",
       "      <th>month</th>\n",
       "      <th>weekday</th>\n",
       "      <th>year</th>\n",
       "      <th>jfk_dist</th>\n",
       "      <th>ewr_dist</th>\n",
       "      <th>lga_dist</th>\n",
       "      <th>sol_dist</th>\n",
       "      <th>nyc_dist</th>\n",
       "      <th>distance</th>\n",
       "      <th>bearing</th>\n",
       "    </tr>\n",
       "  </thead>\n",
       "  <tbody>\n",
       "    <tr>\n",
       "      <th>0</th>\n",
       "      <td>2009-06-15 17:26:21.0000001</td>\n",
       "      <td>4.5</td>\n",
       "      <td>2009-06-15 17:26:21</td>\n",
       "      <td>-1.288826</td>\n",
       "      <td>0.710721</td>\n",
       "      <td>-1.288779</td>\n",
       "      <td>0.710563</td>\n",
       "      <td>1</td>\n",
       "      <td>17</td>\n",
       "      <td>15</td>\n",
       "      <td>6</td>\n",
       "      <td>0</td>\n",
       "      <td>2009</td>\n",
       "      <td>20.265840</td>\n",
       "      <td>55.176046</td>\n",
       "      <td>14.342611</td>\n",
       "      <td>34.543548</td>\n",
       "      <td>27.572573</td>\n",
       "      <td>1.030764</td>\n",
       "      <td>-2.918897</td>\n",
       "    </tr>\n",
       "    <tr>\n",
       "      <th>1</th>\n",
       "      <td>2010-01-05 16:52:16.0000002</td>\n",
       "      <td>16.9</td>\n",
       "      <td>2010-01-05 16:52:16</td>\n",
       "      <td>-1.291824</td>\n",
       "      <td>0.710546</td>\n",
       "      <td>-1.291182</td>\n",
       "      <td>0.711780</td>\n",
       "      <td>1</td>\n",
       "      <td>16</td>\n",
       "      <td>5</td>\n",
       "      <td>1</td>\n",
       "      <td>1</td>\n",
       "      <td>2010</td>\n",
       "      <td>44.667679</td>\n",
       "      <td>31.832358</td>\n",
       "      <td>23.130775</td>\n",
       "      <td>15.125872</td>\n",
       "      <td>8.755732</td>\n",
       "      <td>8.450134</td>\n",
       "      <td>-0.375217</td>\n",
       "    </tr>\n",
       "    <tr>\n",
       "      <th>2</th>\n",
       "      <td>2011-08-18 00:35:00.00000049</td>\n",
       "      <td>5.7</td>\n",
       "      <td>2011-08-18 00:35:00</td>\n",
       "      <td>-1.291242</td>\n",
       "      <td>0.711418</td>\n",
       "      <td>-1.291391</td>\n",
       "      <td>0.711231</td>\n",
       "      <td>2</td>\n",
       "      <td>0</td>\n",
       "      <td>18</td>\n",
       "      <td>8</td>\n",
       "      <td>3</td>\n",
       "      <td>2011</td>\n",
       "      <td>43.597686</td>\n",
       "      <td>33.712082</td>\n",
       "      <td>19.865289</td>\n",
       "      <td>17.722624</td>\n",
       "      <td>9.847344</td>\n",
       "      <td>1.389525</td>\n",
       "      <td>2.599961</td>\n",
       "    </tr>\n",
       "    <tr>\n",
       "      <th>3</th>\n",
       "      <td>2012-04-21 04:30:42.0000001</td>\n",
       "      <td>7.7</td>\n",
       "      <td>2012-04-21 04:30:42</td>\n",
       "      <td>-1.291319</td>\n",
       "      <td>0.710927</td>\n",
       "      <td>-1.291396</td>\n",
       "      <td>0.711363</td>\n",
       "      <td>1</td>\n",
       "      <td>4</td>\n",
       "      <td>21</td>\n",
       "      <td>4</td>\n",
       "      <td>5</td>\n",
       "      <td>2012</td>\n",
       "      <td>42.642965</td>\n",
       "      <td>32.556289</td>\n",
       "      <td>21.063132</td>\n",
       "      <td>15.738963</td>\n",
       "      <td>7.703421</td>\n",
       "      <td>2.799270</td>\n",
       "      <td>0.133905</td>\n",
       "    </tr>\n",
       "    <tr>\n",
       "      <th>4</th>\n",
       "      <td>2010-03-09 07:51:00.000000135</td>\n",
       "      <td>5.3</td>\n",
       "      <td>2010-03-09 07:51:00</td>\n",
       "      <td>-1.290987</td>\n",
       "      <td>0.711536</td>\n",
       "      <td>-1.290787</td>\n",
       "      <td>0.711811</td>\n",
       "      <td>1</td>\n",
       "      <td>7</td>\n",
       "      <td>9</td>\n",
       "      <td>3</td>\n",
       "      <td>1</td>\n",
       "      <td>2010</td>\n",
       "      <td>43.329953</td>\n",
       "      <td>39.406828</td>\n",
       "      <td>15.219339</td>\n",
       "      <td>23.732406</td>\n",
       "      <td>15.600745</td>\n",
       "      <td>1.999157</td>\n",
       "      <td>-0.502703</td>\n",
       "    </tr>\n",
       "  </tbody>\n",
       "</table>\n",
       "</div>"
      ],
      "text/plain": [
       "                             key  fare_amount     pickup_datetime  \\\n",
       "0    2009-06-15 17:26:21.0000001          4.5 2009-06-15 17:26:21   \n",
       "1    2010-01-05 16:52:16.0000002         16.9 2010-01-05 16:52:16   \n",
       "2   2011-08-18 00:35:00.00000049          5.7 2011-08-18 00:35:00   \n",
       "3    2012-04-21 04:30:42.0000001          7.7 2012-04-21 04:30:42   \n",
       "4  2010-03-09 07:51:00.000000135          5.3 2010-03-09 07:51:00   \n",
       "\n",
       "   pickup_longitude  pickup_latitude  dropoff_longitude  dropoff_latitude  \\\n",
       "0         -1.288826         0.710721          -1.288779          0.710563   \n",
       "1         -1.291824         0.710546          -1.291182          0.711780   \n",
       "2         -1.291242         0.711418          -1.291391          0.711231   \n",
       "3         -1.291319         0.710927          -1.291396          0.711363   \n",
       "4         -1.290987         0.711536          -1.290787          0.711811   \n",
       "\n",
       "   passenger_count  hour  day  month  weekday  year   jfk_dist   ewr_dist  \\\n",
       "0                1    17   15      6        0  2009  20.265840  55.176046   \n",
       "1                1    16    5      1        1  2010  44.667679  31.832358   \n",
       "2                2     0   18      8        3  2011  43.597686  33.712082   \n",
       "3                1     4   21      4        5  2012  42.642965  32.556289   \n",
       "4                1     7    9      3        1  2010  43.329953  39.406828   \n",
       "\n",
       "    lga_dist   sol_dist   nyc_dist  distance   bearing  \n",
       "0  14.342611  34.543548  27.572573  1.030764 -2.918897  \n",
       "1  23.130775  15.125872   8.755732  8.450134 -0.375217  \n",
       "2  19.865289  17.722624   9.847344  1.389525  2.599961  \n",
       "3  21.063132  15.738963   7.703421  2.799270  0.133905  \n",
       "4  15.219339  23.732406  15.600745  1.999157 -0.502703  "
      ]
     },
     "execution_count": 14,
     "metadata": {},
     "output_type": "execute_result"
    }
   ],
   "source": [
    "train_df.head()"
   ]
  },
  {
   "cell_type": "code",
   "execution_count": 15,
   "metadata": {},
   "outputs": [],
   "source": [
    "train_df.drop(['key', 'pickup_datetime'], axis=1, inplace=True)"
   ]
  },
  {
   "cell_type": "code",
   "execution_count": 16,
   "metadata": {},
   "outputs": [
    {
     "data": {
      "text/html": [
       "<div>\n",
       "<table border=\"1\" class=\"dataframe\">\n",
       "  <thead>\n",
       "    <tr style=\"text-align: right;\">\n",
       "      <th></th>\n",
       "      <th>fare_amount</th>\n",
       "      <th>pickup_longitude</th>\n",
       "      <th>pickup_latitude</th>\n",
       "      <th>dropoff_longitude</th>\n",
       "      <th>dropoff_latitude</th>\n",
       "      <th>passenger_count</th>\n",
       "      <th>hour</th>\n",
       "      <th>day</th>\n",
       "      <th>month</th>\n",
       "      <th>weekday</th>\n",
       "      <th>year</th>\n",
       "      <th>jfk_dist</th>\n",
       "      <th>ewr_dist</th>\n",
       "      <th>lga_dist</th>\n",
       "      <th>sol_dist</th>\n",
       "      <th>nyc_dist</th>\n",
       "      <th>distance</th>\n",
       "      <th>bearing</th>\n",
       "    </tr>\n",
       "  </thead>\n",
       "  <tbody>\n",
       "    <tr>\n",
       "      <th>0</th>\n",
       "      <td>4.5</td>\n",
       "      <td>-1.288826</td>\n",
       "      <td>0.710721</td>\n",
       "      <td>-1.288779</td>\n",
       "      <td>0.710563</td>\n",
       "      <td>1</td>\n",
       "      <td>17</td>\n",
       "      <td>15</td>\n",
       "      <td>6</td>\n",
       "      <td>0</td>\n",
       "      <td>2009</td>\n",
       "      <td>20.265840</td>\n",
       "      <td>55.176046</td>\n",
       "      <td>14.342611</td>\n",
       "      <td>34.543548</td>\n",
       "      <td>27.572573</td>\n",
       "      <td>1.030764</td>\n",
       "      <td>-2.918897</td>\n",
       "    </tr>\n",
       "    <tr>\n",
       "      <th>1</th>\n",
       "      <td>16.9</td>\n",
       "      <td>-1.291824</td>\n",
       "      <td>0.710546</td>\n",
       "      <td>-1.291182</td>\n",
       "      <td>0.711780</td>\n",
       "      <td>1</td>\n",
       "      <td>16</td>\n",
       "      <td>5</td>\n",
       "      <td>1</td>\n",
       "      <td>1</td>\n",
       "      <td>2010</td>\n",
       "      <td>44.667679</td>\n",
       "      <td>31.832358</td>\n",
       "      <td>23.130775</td>\n",
       "      <td>15.125872</td>\n",
       "      <td>8.755732</td>\n",
       "      <td>8.450134</td>\n",
       "      <td>-0.375217</td>\n",
       "    </tr>\n",
       "    <tr>\n",
       "      <th>2</th>\n",
       "      <td>5.7</td>\n",
       "      <td>-1.291242</td>\n",
       "      <td>0.711418</td>\n",
       "      <td>-1.291391</td>\n",
       "      <td>0.711231</td>\n",
       "      <td>2</td>\n",
       "      <td>0</td>\n",
       "      <td>18</td>\n",
       "      <td>8</td>\n",
       "      <td>3</td>\n",
       "      <td>2011</td>\n",
       "      <td>43.597686</td>\n",
       "      <td>33.712082</td>\n",
       "      <td>19.865289</td>\n",
       "      <td>17.722624</td>\n",
       "      <td>9.847344</td>\n",
       "      <td>1.389525</td>\n",
       "      <td>2.599961</td>\n",
       "    </tr>\n",
       "    <tr>\n",
       "      <th>3</th>\n",
       "      <td>7.7</td>\n",
       "      <td>-1.291319</td>\n",
       "      <td>0.710927</td>\n",
       "      <td>-1.291396</td>\n",
       "      <td>0.711363</td>\n",
       "      <td>1</td>\n",
       "      <td>4</td>\n",
       "      <td>21</td>\n",
       "      <td>4</td>\n",
       "      <td>5</td>\n",
       "      <td>2012</td>\n",
       "      <td>42.642965</td>\n",
       "      <td>32.556289</td>\n",
       "      <td>21.063132</td>\n",
       "      <td>15.738963</td>\n",
       "      <td>7.703421</td>\n",
       "      <td>2.799270</td>\n",
       "      <td>0.133905</td>\n",
       "    </tr>\n",
       "    <tr>\n",
       "      <th>4</th>\n",
       "      <td>5.3</td>\n",
       "      <td>-1.290987</td>\n",
       "      <td>0.711536</td>\n",
       "      <td>-1.290787</td>\n",
       "      <td>0.711811</td>\n",
       "      <td>1</td>\n",
       "      <td>7</td>\n",
       "      <td>9</td>\n",
       "      <td>3</td>\n",
       "      <td>1</td>\n",
       "      <td>2010</td>\n",
       "      <td>43.329953</td>\n",
       "      <td>39.406828</td>\n",
       "      <td>15.219339</td>\n",
       "      <td>23.732406</td>\n",
       "      <td>15.600745</td>\n",
       "      <td>1.999157</td>\n",
       "      <td>-0.502703</td>\n",
       "    </tr>\n",
       "  </tbody>\n",
       "</table>\n",
       "</div>"
      ],
      "text/plain": [
       "   fare_amount  pickup_longitude  pickup_latitude  dropoff_longitude  \\\n",
       "0          4.5         -1.288826         0.710721          -1.288779   \n",
       "1         16.9         -1.291824         0.710546          -1.291182   \n",
       "2          5.7         -1.291242         0.711418          -1.291391   \n",
       "3          7.7         -1.291319         0.710927          -1.291396   \n",
       "4          5.3         -1.290987         0.711536          -1.290787   \n",
       "\n",
       "   dropoff_latitude  passenger_count  hour  day  month  weekday  year  \\\n",
       "0          0.710563                1    17   15      6        0  2009   \n",
       "1          0.711780                1    16    5      1        1  2010   \n",
       "2          0.711231                2     0   18      8        3  2011   \n",
       "3          0.711363                1     4   21      4        5  2012   \n",
       "4          0.711811                1     7    9      3        1  2010   \n",
       "\n",
       "    jfk_dist   ewr_dist   lga_dist   sol_dist   nyc_dist  distance   bearing  \n",
       "0  20.265840  55.176046  14.342611  34.543548  27.572573  1.030764 -2.918897  \n",
       "1  44.667679  31.832358  23.130775  15.125872   8.755732  8.450134 -0.375217  \n",
       "2  43.597686  33.712082  19.865289  17.722624   9.847344  1.389525  2.599961  \n",
       "3  42.642965  32.556289  21.063132  15.738963   7.703421  2.799270  0.133905  \n",
       "4  43.329953  39.406828  15.219339  23.732406  15.600745  1.999157 -0.502703  "
      ]
     },
     "execution_count": 16,
     "metadata": {},
     "output_type": "execute_result"
    }
   ],
   "source": [
    "train_df.head()"
   ]
  },
  {
   "cell_type": "code",
   "execution_count": 19,
   "metadata": {},
   "outputs": [],
   "source": [
    "train_df.to_csv('train_22m_python.csv', index=False)"
   ]
  },
  {
   "cell_type": "code",
   "execution_count": 17,
   "metadata": {},
   "outputs": [],
   "source": [
    "y = train_df['fare_amount']\n",
    "train_df = train_df.drop(['fare_amount'],axis=1)"
   ]
  },
  {
   "cell_type": "code",
   "execution_count": 18,
   "metadata": {},
   "outputs": [
    {
     "data": {
      "text/html": [
       "<div>\n",
       "<table border=\"1\" class=\"dataframe\">\n",
       "  <thead>\n",
       "    <tr style=\"text-align: right;\">\n",
       "      <th></th>\n",
       "      <th>pickup_longitude</th>\n",
       "      <th>pickup_latitude</th>\n",
       "      <th>dropoff_longitude</th>\n",
       "      <th>dropoff_latitude</th>\n",
       "      <th>passenger_count</th>\n",
       "      <th>hour</th>\n",
       "      <th>day</th>\n",
       "      <th>month</th>\n",
       "      <th>weekday</th>\n",
       "      <th>year</th>\n",
       "      <th>jfk_dist</th>\n",
       "      <th>ewr_dist</th>\n",
       "      <th>lga_dist</th>\n",
       "      <th>sol_dist</th>\n",
       "      <th>nyc_dist</th>\n",
       "      <th>distance</th>\n",
       "      <th>bearing</th>\n",
       "    </tr>\n",
       "  </thead>\n",
       "  <tbody>\n",
       "    <tr>\n",
       "      <th>0</th>\n",
       "      <td>-1.288826</td>\n",
       "      <td>0.710721</td>\n",
       "      <td>-1.288779</td>\n",
       "      <td>0.710563</td>\n",
       "      <td>1</td>\n",
       "      <td>17</td>\n",
       "      <td>15</td>\n",
       "      <td>6</td>\n",
       "      <td>0</td>\n",
       "      <td>2009</td>\n",
       "      <td>20.265840</td>\n",
       "      <td>55.176046</td>\n",
       "      <td>14.342611</td>\n",
       "      <td>34.543548</td>\n",
       "      <td>27.572573</td>\n",
       "      <td>1.030764</td>\n",
       "      <td>-2.918897</td>\n",
       "    </tr>\n",
       "    <tr>\n",
       "      <th>1</th>\n",
       "      <td>-1.291824</td>\n",
       "      <td>0.710546</td>\n",
       "      <td>-1.291182</td>\n",
       "      <td>0.711780</td>\n",
       "      <td>1</td>\n",
       "      <td>16</td>\n",
       "      <td>5</td>\n",
       "      <td>1</td>\n",
       "      <td>1</td>\n",
       "      <td>2010</td>\n",
       "      <td>44.667679</td>\n",
       "      <td>31.832358</td>\n",
       "      <td>23.130775</td>\n",
       "      <td>15.125872</td>\n",
       "      <td>8.755732</td>\n",
       "      <td>8.450134</td>\n",
       "      <td>-0.375217</td>\n",
       "    </tr>\n",
       "    <tr>\n",
       "      <th>2</th>\n",
       "      <td>-1.291242</td>\n",
       "      <td>0.711418</td>\n",
       "      <td>-1.291391</td>\n",
       "      <td>0.711231</td>\n",
       "      <td>2</td>\n",
       "      <td>0</td>\n",
       "      <td>18</td>\n",
       "      <td>8</td>\n",
       "      <td>3</td>\n",
       "      <td>2011</td>\n",
       "      <td>43.597686</td>\n",
       "      <td>33.712082</td>\n",
       "      <td>19.865289</td>\n",
       "      <td>17.722624</td>\n",
       "      <td>9.847344</td>\n",
       "      <td>1.389525</td>\n",
       "      <td>2.599961</td>\n",
       "    </tr>\n",
       "    <tr>\n",
       "      <th>3</th>\n",
       "      <td>-1.291319</td>\n",
       "      <td>0.710927</td>\n",
       "      <td>-1.291396</td>\n",
       "      <td>0.711363</td>\n",
       "      <td>1</td>\n",
       "      <td>4</td>\n",
       "      <td>21</td>\n",
       "      <td>4</td>\n",
       "      <td>5</td>\n",
       "      <td>2012</td>\n",
       "      <td>42.642965</td>\n",
       "      <td>32.556289</td>\n",
       "      <td>21.063132</td>\n",
       "      <td>15.738963</td>\n",
       "      <td>7.703421</td>\n",
       "      <td>2.799270</td>\n",
       "      <td>0.133905</td>\n",
       "    </tr>\n",
       "    <tr>\n",
       "      <th>4</th>\n",
       "      <td>-1.290987</td>\n",
       "      <td>0.711536</td>\n",
       "      <td>-1.290787</td>\n",
       "      <td>0.711811</td>\n",
       "      <td>1</td>\n",
       "      <td>7</td>\n",
       "      <td>9</td>\n",
       "      <td>3</td>\n",
       "      <td>1</td>\n",
       "      <td>2010</td>\n",
       "      <td>43.329953</td>\n",
       "      <td>39.406828</td>\n",
       "      <td>15.219339</td>\n",
       "      <td>23.732406</td>\n",
       "      <td>15.600745</td>\n",
       "      <td>1.999157</td>\n",
       "      <td>-0.502703</td>\n",
       "    </tr>\n",
       "  </tbody>\n",
       "</table>\n",
       "</div>"
      ],
      "text/plain": [
       "   pickup_longitude  pickup_latitude  dropoff_longitude  dropoff_latitude  \\\n",
       "0         -1.288826         0.710721          -1.288779          0.710563   \n",
       "1         -1.291824         0.710546          -1.291182          0.711780   \n",
       "2         -1.291242         0.711418          -1.291391          0.711231   \n",
       "3         -1.291319         0.710927          -1.291396          0.711363   \n",
       "4         -1.290987         0.711536          -1.290787          0.711811   \n",
       "\n",
       "   passenger_count  hour  day  month  weekday  year   jfk_dist   ewr_dist  \\\n",
       "0                1    17   15      6        0  2009  20.265840  55.176046   \n",
       "1                1    16    5      1        1  2010  44.667679  31.832358   \n",
       "2                2     0   18      8        3  2011  43.597686  33.712082   \n",
       "3                1     4   21      4        5  2012  42.642965  32.556289   \n",
       "4                1     7    9      3        1  2010  43.329953  39.406828   \n",
       "\n",
       "    lga_dist   sol_dist   nyc_dist  distance   bearing  \n",
       "0  14.342611  34.543548  27.572573  1.030764 -2.918897  \n",
       "1  23.130775  15.125872   8.755732  8.450134 -0.375217  \n",
       "2  19.865289  17.722624   9.847344  1.389525  2.599961  \n",
       "3  21.063132  15.738963   7.703421  2.799270  0.133905  \n",
       "4  15.219339  23.732406  15.600745  1.999157 -0.502703  "
      ]
     },
     "execution_count": 18,
     "metadata": {},
     "output_type": "execute_result"
    }
   ],
   "source": [
    "train_df.head()"
   ]
  },
  {
   "cell_type": "code",
   "execution_count": 19,
   "metadata": {
    "collapsed": true
   },
   "outputs": [],
   "source": [
    "x_train,x_test,y_train,y_test = train_test_split(train_df,y,random_state=123,test_size=0.10)"
   ]
  },
  {
   "cell_type": "code",
   "execution_count": 20,
   "metadata": {},
   "outputs": [
    {
     "data": {
      "text/plain": [
       "343"
      ]
     },
     "execution_count": 20,
     "metadata": {},
     "output_type": "execute_result"
    }
   ],
   "source": [
    "del train_df\n",
    "del y\n",
    "gc.collect()"
   ]
  },
  {
   "cell_type": "code",
   "execution_count": 36,
   "metadata": {},
   "outputs": [],
   "source": [
    "y_train1=pd.DataFrame(np.array(y_train), columns=['y_train'])\n",
    "y_valid1=pd.DataFrame(np.array(y_test), columns=['y_valid'])"
   ]
  },
  {
   "cell_type": "code",
   "execution_count": 40,
   "metadata": {},
   "outputs": [],
   "source": [
    "y_train1.to_csv('y_train.csv',index=False)\n",
    "y_valid1.to_csv('y_valid.csv', index=False)"
   ]
  },
  {
   "cell_type": "code",
   "execution_count": 21,
   "metadata": {},
   "outputs": [
    {
     "name": "stderr",
     "output_type": "stream",
     "text": [
      "/Users/shuozhang/anaconda/lib/python2.7/site-packages/sklearn/cross_validation.py:44: DeprecationWarning: This module was deprecated in version 0.18 in favor of the model_selection module into which all the refactored classes and functions are moved. Also note that the interface of the new CV iterators are different from that of this module. This module will be removed in 0.20.\n",
      "  \"This module will be removed in 0.20.\", DeprecationWarning)\n"
     ]
    }
   ],
   "source": [
    "import xgboost as xgb"
   ]
  },
  {
   "cell_type": "code",
   "execution_count": 23,
   "metadata": {},
   "outputs": [
    {
     "name": "stdout",
     "output_type": "stream",
     "text": [
      "[0]\ttest-rmse:4.579\n",
      "Will train until test-rmse hasn't improved in 500 rounds.\n",
      "[500]\ttest-rmse:3.72887\n",
      "Stopping. Best iteration:\n",
      "[32]\ttest-rmse:0.039479\n",
      "\n"
     ]
    }
   ],
   "source": [
    "params = {'eval_metric': 'rmse',\\\n",
    "          'objective': 'reg:linear',\\\n",
    "              'booster':'gbtree',\\\n",
    "              'nthread' : 8,\\\n",
    "              'eta' : 0.03,\\\n",
    "              'max_leaves': 31,\\\n",
    "              'max_depth' : 7,\\\n",
    "              'min_child_weight' : 1,\\\n",
    "              'subsample' : 0.8,\\\n",
    "              'colsample_bytree' : 0.6,\\\n",
    "              'gamma':0}\n",
    "train_set = xgb.DMatrix(x_train,label=y_train)\n",
    "valid_set = xgb.DMatrix(x_test,label=y_test)\n",
    "model = xgb.train(params, dtrain=train_set, num_boost_round=50000,early_stopping_rounds=500,verbose_eval=500,evals=[(valid_set,'test')])"
   ]
  },
  {
   "cell_type": "code",
   "execution_count": 24,
   "metadata": {
    "collapsed": true
   },
   "outputs": [],
   "source": [
    "y_train_pred=model.predict(xgb.DMatrix(x_train), ntree_limit = model.best_ntree_limit).tolist() \n",
    "y_valid_pred=model.predict(xgb.DMatrix(x_test), ntree_limit = model.best_ntree_limit).tolist() "
   ]
  },
  {
   "cell_type": "code",
   "execution_count": 25,
   "metadata": {
    "collapsed": true
   },
   "outputs": [],
   "source": [
    "y_train_pred1=pd.DataFrame(np.array(y_train_pred), columns=['y_train_pred'])\n",
    "y_valid_pred1=pd.DataFrame(np.array(y_valid_pred), columns=['y_valid_pred'])"
   ]
  },
  {
   "cell_type": "code",
   "execution_count": null,
   "metadata": {
    "collapsed": true
   },
   "outputs": [],
   "source": [
    "y_train_pred1.to_csv('y_train_pred.csv', index=False)\n",
    "y_valid_pred1.to_csv('y_valid_pred.csv', index=False)"
   ]
  },
  {
   "cell_type": "code",
   "execution_count": null,
   "metadata": {
    "collapsed": true
   },
   "outputs": [],
   "source": [
    "del x_train\n",
    "del y_train\n",
    "del x_test\n",
    "del y_test\n",
    "del y_train1\n",
    "del y_valid1\n",
    "del y_train_pred\n",
    "del y_valid_pred\n",
    "del y_train_pred1\n",
    "del y_valid_pred1\n",
    "gc.collect()"
   ]
  },
  {
   "cell_type": "code",
   "execution_count": 27,
   "metadata": {
    "collapsed": true
   },
   "outputs": [],
   "source": [
    "test_df =  pd.read_csv('test.csv')"
   ]
  },
  {
   "cell_type": "code",
   "execution_count": 28,
   "metadata": {
    "collapsed": true
   },
   "outputs": [],
   "source": [
    "test_df = add_datetime_info(test_df)\n",
    "test_df = add_airport_dist(test_df)\n",
    "test_df['distance'] = sphere_dist(test_df['pickup_latitude'], test_df['pickup_longitude'], \n",
    "                                   test_df['dropoff_latitude'] , test_df['dropoff_longitude'])\n",
    "\n",
    "test_df['bearing'] = sphere_dist_bear(test_df['pickup_latitude'], test_df['pickup_longitude'], \n",
    "                                    test_df['dropoff_latitude'] , test_df['dropoff_longitude'])  \n",
    "test_df['pickup_latitude'] = radian_conv(test_df['pickup_latitude'])\n",
    "test_df['pickup_longitude'] = radian_conv(test_df['pickup_longitude'])\n",
    "test_df['dropoff_latitude'] = radian_conv(test_df['dropoff_latitude'])\n",
    "test_df['dropoff_longitude'] = radian_conv(test_df['dropoff_longitude'])"
   ]
  },
  {
   "cell_type": "code",
   "execution_count": 29,
   "metadata": {
    "collapsed": true
   },
   "outputs": [],
   "source": [
    "test_key = test_df['key']\n",
    "test_df = test_df.drop(['key', 'pickup_datetime'],axis=1)\n",
    "test_df.to_csv('test_22m_python.csv', index=False)"
   ]
  },
  {
   "cell_type": "code",
   "execution_count": 30,
   "metadata": {
    "collapsed": true
   },
   "outputs": [],
   "source": [
    "#Predict from test set\n",
    "prediction = model.predict(xgb.DMatrix(test_df), ntree_limit = model.best_ntree_limit).tolist()    \n",
    "submission = pd.DataFrame({\n",
    "        \"key\": test_key,\n",
    "        \"fare_amount\": prediction\n",
    "})\n",
    "\n",
    "submission.to_csv('submission_22m_python.csv',index=False)"
   ]
  },
  {
   "cell_type": "code",
   "execution_count": 31,
   "metadata": {
    "collapsed": true
   },
   "outputs": [],
   "source": [
    "importance_df = pd.DataFrame()\n",
    "importance_df = pd.DataFrame(model.get_fscore().items(), columns=['feature','importance']).sort_values('importance', ascending=False)"
   ]
  },
  {
   "cell_type": "code",
   "execution_count": 32,
   "metadata": {
    "collapsed": true
   },
   "outputs": [],
   "source": [
    "import matplotlib.pyplot as plt\n",
    "import seaborn as sns\n",
    "% matplotlib inline\n",
    "plt.style.use('seaborn-whitegrid')\n",
    "import warnings\n",
    "warnings.filterwarnings('ignore')"
   ]
  },
  {
   "cell_type": "code",
   "execution_count": 33,
   "metadata": {},
   "outputs": [
    {
     "data": {
      "image/png": "[encoded data removed]",
      "text/plain": [
       "<matplotlib.figure.Figure at 0x119ef23d0>"
      ]
     },
     "metadata": {},
     "output_type": "display_data"
    }
   ],
   "source": [
    "plt.figure(figsize=(8, 10))\n",
    "sns.barplot(x=\"importance\", y=\"feature\", data=importance_df)\n",
    "plt.title('XGB Features (avg over folds)')\n",
    "plt.tight_layout\n",
    "plt.show()"
   ]
  },
  {
   "cell_type": "code",
   "execution_count": null,
   "metadata": {
    "collapsed": true
   },
   "outputs": [],
   "source": []
  }
 ],
 "metadata": {
  "kernelspec": {
   "display_name": "Python 2",
   "language": "python",
   "name": "python2"
  },
  "language_info": {
   "codemirror_mode": {
    "name": "ipython",
    "version": 2
   },
   "file_extension": ".py",
   "mimetype": "text/x-python",
   "name": "python",
   "nbconvert_exporter": "python",
   "pygments_lexer": "ipython2",
   "version": "2.7.15"
  }
 },
 "nbformat": 4,
 "nbformat_minor": 2
}
